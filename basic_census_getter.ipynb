{
 "cells": [
  {
   "cell_type": "code",
   "execution_count": 3,
   "metadata": {
    "collapsed": false
   },
   "outputs": [],
   "source": [
    "import csv, json, requests"
   ]
  },
  {
   "cell_type": "code",
   "execution_count": 15,
   "metadata": {
    "collapsed": true
   },
   "outputs": [],
   "source": [
    "uri = 'http://api.census.gov/data/2010/sf1?get=PCT012A001,PCT012B001,PCT012C001,PCT012D001,PCT012E001,PCT012F001,PCT012G001,PCT012H001,PCT012I001&for=zip+code+tabulation+area:11385,11379,11378,11237,11233,11222,11221,11212,11211,11208,11207,11206&in=state:36&key=7b07c412f9d3353239dd5e80a2287fe74ff76667'"
   ]
  },
  {
   "cell_type": "code",
   "execution_count": 16,
   "metadata": {
    "collapsed": false
   },
   "outputs": [],
   "source": [
    "response = requests.get(\n",
    "    uri,\n",
    "    headers = {\n",
    "        'Content-Type': 'application/json'\n",
    "    })"
   ]
  },
  {
   "cell_type": "code",
   "execution_count": 17,
   "metadata": {
    "collapsed": false
   },
   "outputs": [
    {
     "data": {
      "text/plain": [
       "u'[[\"PCT012A001\",\"PCT012B001\",\"PCT012C001\",\"PCT012D001\",\"PCT012E001\",\"PCT012F001\",\"PCT012G001\",\"PCT012H001\",\"PCT012I001\",\"state\",\"zip code tabulation area\"],\\n[\"34534\",\"23108\",\"736\",\"4522\",\"52\",\"15393\",\"3332\",\"35118\",\"21250\",\"36\",\"11206\"],\\n[\"10638\",\"62417\",\"841\",\"1069\",\"127\",\"14606\",\"3688\",\"32323\",\"1567\",\"36\",\"11207\"],\\n[\"14798\",\"45147\",\"1131\",\"7878\",\"95\",\"20721\",\"4699\",\"40645\",\"1973\",\"36\",\"11208\"],\\n[\"68534\",\"4496\",\"520\",\"3445\",\"54\",\"10276\",\"2792\",\"23514\",\"58603\",\"36\",\"11211\"],\\n[\"3822\",\"71964\",\"483\",\"606\",\"38\",\"5315\",\"2272\",\"13905\",\"666\",\"36\",\"11212\"],\\n[\"13776\",\"44774\",\"825\",\"1629\",\"69\",\"14517\",\"3305\",\"31166\",\"3721\",\"36\",\"11221\"],\\n[\"30855\",\"807\",\"111\",\"1813\",\"19\",\"2306\",\"1023\",\"5702\",\"27946\",\"36\",\"11222\"],\\n[\"3629\",\"56838\",\"470\",\"575\",\"17\",\"3594\",\"1930\",\"9735\",\"1334\",\"36\",\"11233\"],\\n[\"18040\",\"5423\",\"696\",\"3457\",\"40\",\"19238\",\"3002\",\"36252\",\"5768\",\"36\",\"11237\"],\\n[\"25712\",\"551\",\"139\",\"3634\",\"17\",\"4018\",\"910\",\"9617\",\"21038\",\"36\",\"11378\"],\\n[\"28929\",\"363\",\"59\",\"2839\",\"10\",\"1989\",\"632\",\"5728\",\"25628\",\"36\",\"11379\"],\\n[\"64585\",\"3310\",\"722\",\"6397\",\"60\",\"19680\",\"3838\",\"43166\",\"45996\",\"36\",\"11385\"]]'"
      ]
     },
     "execution_count": 17,
     "metadata": {},
     "output_type": "execute_result"
    }
   ],
   "source": [
    "response.text"
   ]
  },
  {
   "cell_type": "code",
   "execution_count": 18,
   "metadata": {
    "collapsed": false
   },
   "outputs": [],
   "source": [
    "headers = response.json()[0]"
   ]
  },
  {
   "cell_type": "code",
   "execution_count": 22,
   "metadata": {
    "collapsed": false
   },
   "outputs": [],
   "source": [
    "final_records = []\n",
    "\n",
    "for record in response.json()[1:]:\n",
    "    new_record = {}\n",
    "    for index, data_point in enumerate(record):\n",
    "        new_record[headers[index]] = data_point\n",
    "    final_records.append(new_record)"
   ]
  },
  {
   "cell_type": "code",
   "execution_count": 27,
   "metadata": {
    "collapsed": false
   },
   "outputs": [
    {
     "name": "stdout",
     "output_type": "stream",
     "text": [
      "What is your filename? stuff\n"
     ]
    },
    {
     "ename": "NameError",
     "evalue": "name 'stuff' is not defined",
     "output_type": "error",
     "traceback": [
      "\u001b[0;31m---------------------------------------------------------------------------\u001b[0m",
      "\u001b[0;31mNameError\u001b[0m                                 Traceback (most recent call last)",
      "\u001b[0;32m<ipython-input-27-f8f7c348cf66>\u001b[0m in \u001b[0;36m<module>\u001b[0;34m()\u001b[0m\n\u001b[0;32m----> 1\u001b[0;31m \u001b[0mfilename\u001b[0m \u001b[0;34m=\u001b[0m \u001b[0minput\u001b[0m\u001b[0;34m(\u001b[0m\u001b[0;34m'What is your filename? '\u001b[0m\u001b[0;34m)\u001b[0m\u001b[0;34m\u001b[0m\u001b[0m\n\u001b[0m\u001b[1;32m      2\u001b[0m \u001b[0;34m\u001b[0m\u001b[0m\n\u001b[1;32m      3\u001b[0m \u001b[0mfilename\u001b[0m \u001b[0;34m+=\u001b[0m \u001b[0;34m'.csv'\u001b[0m\u001b[0;34m\u001b[0m\u001b[0m\n\u001b[1;32m      4\u001b[0m \u001b[0;34m\u001b[0m\u001b[0m\n\u001b[1;32m      5\u001b[0m \u001b[0;32mwith\u001b[0m \u001b[0mopen\u001b[0m\u001b[0;34m(\u001b[0m\u001b[0mfilename\u001b[0m\u001b[0;34m,\u001b[0m \u001b[0;34m'w'\u001b[0m\u001b[0;34m)\u001b[0m \u001b[0;32mas\u001b[0m \u001b[0mf\u001b[0m\u001b[0;34m:\u001b[0m\u001b[0;34m\u001b[0m\u001b[0m\n",
      "\u001b[0;32m/Users/danlutz/anaconda/lib/python2.7/site-packages/ipykernel/ipkernel.pyc\u001b[0m in \u001b[0;36m<lambda>\u001b[0;34m(prompt)\u001b[0m\n\u001b[1;32m    162\u001b[0m             \u001b[0mself\u001b[0m\u001b[0;34m.\u001b[0m\u001b[0m_sys_eval_input\u001b[0m \u001b[0;34m=\u001b[0m \u001b[0mbuiltin_mod\u001b[0m\u001b[0;34m.\u001b[0m\u001b[0minput\u001b[0m\u001b[0;34m\u001b[0m\u001b[0m\n\u001b[1;32m    163\u001b[0m             \u001b[0mbuiltin_mod\u001b[0m\u001b[0;34m.\u001b[0m\u001b[0mraw_input\u001b[0m \u001b[0;34m=\u001b[0m \u001b[0mself\u001b[0m\u001b[0;34m.\u001b[0m\u001b[0mraw_input\u001b[0m\u001b[0;34m\u001b[0m\u001b[0m\n\u001b[0;32m--> 164\u001b[0;31m             \u001b[0mbuiltin_mod\u001b[0m\u001b[0;34m.\u001b[0m\u001b[0minput\u001b[0m \u001b[0;34m=\u001b[0m \u001b[0;32mlambda\u001b[0m \u001b[0mprompt\u001b[0m\u001b[0;34m=\u001b[0m\u001b[0;34m''\u001b[0m\u001b[0;34m:\u001b[0m \u001b[0meval\u001b[0m\u001b[0;34m(\u001b[0m\u001b[0mself\u001b[0m\u001b[0;34m.\u001b[0m\u001b[0mraw_input\u001b[0m\u001b[0;34m(\u001b[0m\u001b[0mprompt\u001b[0m\u001b[0;34m)\u001b[0m\u001b[0;34m)\u001b[0m\u001b[0;34m\u001b[0m\u001b[0m\n\u001b[0m\u001b[1;32m    165\u001b[0m         \u001b[0mself\u001b[0m\u001b[0;34m.\u001b[0m\u001b[0m_save_getpass\u001b[0m \u001b[0;34m=\u001b[0m \u001b[0mgetpass\u001b[0m\u001b[0;34m.\u001b[0m\u001b[0mgetpass\u001b[0m\u001b[0;34m\u001b[0m\u001b[0m\n\u001b[1;32m    166\u001b[0m         \u001b[0mgetpass\u001b[0m\u001b[0;34m.\u001b[0m\u001b[0mgetpass\u001b[0m \u001b[0;34m=\u001b[0m \u001b[0mself\u001b[0m\u001b[0;34m.\u001b[0m\u001b[0mgetpass\u001b[0m\u001b[0;34m\u001b[0m\u001b[0m\n",
      "\u001b[0;32m/Users/danlutz/anaconda/lib/python2.7/site-packages/ipykernel/ipkernel.pyc\u001b[0m in \u001b[0;36m<module>\u001b[0;34m()\u001b[0m\n",
      "\u001b[0;31mNameError\u001b[0m: name 'stuff' is not defined"
     ]
    }
   ],
   "source": [
    "filename = input('What is your filename? ')\n",
    "\n",
    "filename += '.csv'\n",
    "\n",
    "with open(filename, 'w') as f:\n",
    "    writer = csv.DictWriter(f, fieldnames=final_records[0].keys())\n",
    "    writer.writeheader()\n",
    "    for row in final_records:\n",
    "        writer.writerow(row)"
   ]
  },
  {
   "cell_type": "code",
   "execution_count": null,
   "metadata": {
    "collapsed": true
   },
   "outputs": [],
   "source": []
  }
 ],
 "metadata": {
  "anaconda-cloud": {},
  "kernelspec": {
   "display_name": "Python [default]",
   "language": "python",
   "name": "python2"
  },
  "language_info": {
   "codemirror_mode": {
    "name": "ipython",
    "version": 2
   },
   "file_extension": ".py",
   "mimetype": "text/x-python",
   "name": "python",
   "nbconvert_exporter": "python",
   "pygments_lexer": "ipython2",
   "version": "2.7.12"
  }
 },
 "nbformat": 4,
 "nbformat_minor": 1
}
