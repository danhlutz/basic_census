{
 "cells": [
  {
   "cell_type": "code",
   "execution_count": null,
   "metadata": {
    "collapsed": false
   },
   "outputs": [],
   "source": [
    "import csv, json, requests"
   ]
  },
  {
   "cell_type": "code",
   "execution_count": null,
   "metadata": {
    "collapsed": true
   },
   "outputs": [],
   "source": [
    "uri = 'http://api.census.gov/data/2010/sf1?get=PCT012A001,PCT012B001,PCT012C001,PCT012D001,PCT012E001,PCT012F001,PCT012G001,PCT012H001,PCT012I001&for=zip+code+tabulation+area:11385,11379,11378,11237,11233,11222,11221,11212,11211,11208,11207,11206&in=state:36&key=7b07c412f9d3353239dd5e80a2287fe74ff76667'"
   ]
  },
  {
   "cell_type": "code",
   "execution_count": null,
   "metadata": {
    "collapsed": false
   },
   "outputs": [],
   "source": [
    "response = requests.get(\n",
    "    uri,\n",
    "    headers = {\n",
    "        'Content-Type': 'application/json'\n",
    "    })"
   ]
  },
  {
   "cell_type": "code",
   "execution_count": null,
   "metadata": {
    "collapsed": false
   },
   "outputs": [],
   "source": [
    "response.text"
   ]
  },
  {
   "cell_type": "code",
   "execution_count": null,
   "metadata": {
    "collapsed": false
   },
   "outputs": [],
   "source": [
    "headers = response.json()[0]"
   ]
  },
  {
   "cell_type": "code",
   "execution_count": null,
   "metadata": {
    "collapsed": false
   },
   "outputs": [],
   "source": [
    "final_records = []\n",
    "\n",
    "for record in response.json()[1:]:\n",
    "    new_record = {}\n",
    "    for index, data_point in enumerate(record):\n",
    "        new_record[headers[index]] = data_point\n",
    "    final_records.append(new_record)"
   ]
  },
  {
   "cell_type": "code",
   "execution_count": null,
   "metadata": {
    "collapsed": false
   },
   "outputs": [],
   "source": [
    "filename = input('What is your filename? ')\n",
    "\n",
    "filename += '.csv'\n",
    "\n",
    "with open(filename, 'w') as f:\n",
    "    writer = csv.DictWriter(f, fieldnames=final_records[0].keys())\n",
    "    writer.writeheader()\n",
    "    for row in final_records:\n",
    "        writer.writerow(row)"
   ]
  },
  {
   "cell_type": "code",
   "execution_count": null,
   "metadata": {
    "collapsed": true
   },
   "outputs": [],
   "source": []
  }
 ],
 "metadata": {
  "anaconda-cloud": {},
  "kernelspec": {
   "display_name": "Python [default]",
   "language": "python",
   "name": "python2"
  },
  "language_info": {
   "codemirror_mode": {
    "name": "ipython",
    "version": 2
   },
   "file_extension": ".py",
   "mimetype": "text/x-python",
   "name": "python",
   "nbconvert_exporter": "python",
   "pygments_lexer": "ipython2",
   "version": "2.7.12"
  }
 },
 "nbformat": 4,
 "nbformat_minor": 1
}
